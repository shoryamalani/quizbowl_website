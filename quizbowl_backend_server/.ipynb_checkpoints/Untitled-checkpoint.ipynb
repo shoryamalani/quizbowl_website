{
 "cells": [
  {
   "cell_type": "code",
   "execution_count": 4,
   "id": "248e3e5d",
   "metadata": {},
   "outputs": [],
   "source": [
    "import re\n",
    "import jellyfish\n",
    "def check_answer_from_user(user_answer,correct_answer):\n",
    "    \"\"\"\n",
    "    Checks if the answer provided by the user is correct\n",
    "    \"\"\"\n",
    "    correct_answer = re.sub(r'\\([^)]*\\)', '', correct_answer)\n",
    "    correct_answer = re.sub(r'\\[[^>]+]', '', correct_answer)\n",
    "    correct_answer = re.sub(r'&lt[^>]+&gt','',correct_answer)\n",
    "    correct_answer = re.sub(r'(\\b[A-Z][A-Z]+|\\b[A-Z]\\b)','',correct_answer)\n",
    "    correct_answer = re.sub(r'[Bb][oO][nN][uU][sS][eE][sS]','',correct_answer)\n",
    "    correct_answer = re.sub(r'[Bb][oO][nN][uU][sS]','',correct_answer)\n",
    "    \n",
    "    correct_answer = correct_answer.replace('\"', '')\n",
    "    correct_answer = correct_answer.replace(\"alt;\", ' ')\n",
    "    correct_answer = correct_answer.replace(\"&lt\", ' ')\n",
    "    correct_answer = correct_answer.replace(\"&gt;\", ' ')\n",
    "    correct_answer = correct_answer.replace(\"'\", '')\n",
    "    correct_answer = correct_answer.replace(\"?\", '')\n",
    "    correct_answer = correct_answer.replace(\".\", '')\n",
    "    correct_answer = correct_answer.replace(\"!\", '')\n",
    "    correct_answer = correct_answer.replace(\",\", '')\n",
    "    correct_answer = correct_answer.replace(\";\", '')\n",
    "    correct_answer = correct_answer.replace(\"<strong>\", ' ')\n",
    "    correct_answer = correct_answer.replace(\"</strong>\", ' ')\n",
    "    correct_answer = correct_answer.replace(\"<br>\", ' ')\n",
    "    correct_answer = correct_answer.replace(\"<br/>\", ' ')\n",
    "    correct_answer = correct_answer.replace(\"<u>\", ' ')\n",
    "    correct_answer = correct_answer.replace(\"</u>\", ' ')\n",
    "    correct_answer = correct_answer.replace(\"<p>\", ' ')\n",
    "    correct_answer = correct_answer.replace(\"</p>\", ' ')\n",
    "    correct_answer = correct_answer.replace(\"<em>\", ' ')\n",
    "    correct_answer = correct_answer.replace(\"</em>\", ' ')\n",
    "\n",
    "    correct_answer = correct_answer.strip()\n",
    "    possible_answers = correct_answer.split()\n",
    "    possible_answers.append(correct_answer)\n",
    "    for a in possible_answers:\n",
    "        distance = jellyfish.damerau_levenshtein_distance(user_answer.lower(), a.lower())\n",
    "        print(distance)\n",
    "        if distance<len(user_answer)*0.4:\n",
    "            return [True, correct_answer]\n",
    "    return [False, correct_answer]"
   ]
  },
  {
   "cell_type": "code",
   "execution_count": 5,
   "id": "bb1cfe9d",
   "metadata": {},
   "outputs": [
    {
     "ename": "NameError",
     "evalue": "name 'corret_answer' is not defined",
     "output_type": "error",
     "traceback": [
      "\u001b[0;31m--------------------------------------------------------------------\u001b[0m",
      "\u001b[0;31mNameError\u001b[0m                          Traceback (most recent call last)",
      "\u001b[0;32m<ipython-input-5-65010b067351>\u001b[0m in \u001b[0;36m<module>\u001b[0;34m\u001b[0m\n\u001b[0;32m----> 1\u001b[0;31m \u001b[0mcheck_answer_from_user\u001b[0m\u001b[0;34m(\u001b[0m\u001b[0;34m\"Trump\"\u001b[0m\u001b[0;34m,\u001b[0m\u001b[0;34m\"Donald Trump\"\u001b[0m\u001b[0;34m)\u001b[0m\u001b[0;34m\u001b[0m\u001b[0;34m\u001b[0m\u001b[0m\n\u001b[0m",
      "\u001b[0;32m<ipython-input-4-e66562ee0c72>\u001b[0m in \u001b[0;36mcheck_answer_from_user\u001b[0;34m(user_answer, correct_answer)\u001b[0m\n\u001b[1;32m     34\u001b[0m \u001b[0;34m\u001b[0m\u001b[0m\n\u001b[1;32m     35\u001b[0m     \u001b[0mcorrect_answer\u001b[0m \u001b[0;34m=\u001b[0m \u001b[0mcorrect_answer\u001b[0m\u001b[0;34m.\u001b[0m\u001b[0mstrip\u001b[0m\u001b[0;34m(\u001b[0m\u001b[0;34m)\u001b[0m\u001b[0;34m\u001b[0m\u001b[0;34m\u001b[0m\u001b[0m\n\u001b[0;32m---> 36\u001b[0;31m     \u001b[0;32mfor\u001b[0m \u001b[0ma\u001b[0m \u001b[0;32min\u001b[0m \u001b[0mcorret_answer\u001b[0m\u001b[0;34m:\u001b[0m\u001b[0;34m\u001b[0m\u001b[0;34m\u001b[0m\u001b[0m\n\u001b[0m\u001b[1;32m     37\u001b[0m         \u001b[0mdistance\u001b[0m \u001b[0;34m=\u001b[0m \u001b[0mjellyfish\u001b[0m\u001b[0;34m.\u001b[0m\u001b[0mdamerau_levenshtein_distance\u001b[0m\u001b[0;34m(\u001b[0m\u001b[0muser_answer\u001b[0m\u001b[0;34m.\u001b[0m\u001b[0mlower\u001b[0m\u001b[0;34m(\u001b[0m\u001b[0;34m)\u001b[0m\u001b[0;34m,\u001b[0m \u001b[0ma\u001b[0m\u001b[0;34m.\u001b[0m\u001b[0mlower\u001b[0m\u001b[0;34m(\u001b[0m\u001b[0;34m)\u001b[0m\u001b[0;34m)\u001b[0m\u001b[0;34m\u001b[0m\u001b[0;34m\u001b[0m\u001b[0m\n\u001b[1;32m     38\u001b[0m         \u001b[0mprint\u001b[0m\u001b[0;34m(\u001b[0m\u001b[0mdistance\u001b[0m\u001b[0;34m)\u001b[0m\u001b[0;34m\u001b[0m\u001b[0;34m\u001b[0m\u001b[0m\n",
      "\u001b[0;31mNameError\u001b[0m: name 'corret_answer' is not defined"
     ]
    }
   ],
   "source": [
    "check_answer_from_user(\"Trump\",\"Donald Trump\")"
   ]
  },
  {
   "cell_type": "code",
   "execution_count": null,
   "id": "16bd0498",
   "metadata": {},
   "outputs": [],
   "source": []
  }
 ],
 "metadata": {
  "kernelspec": {
   "display_name": "Python 3",
   "language": "python",
   "name": "python3"
  },
  "language_info": {
   "codemirror_mode": {
    "name": "ipython",
    "version": 3
   },
   "file_extension": ".py",
   "mimetype": "text/x-python",
   "name": "python",
   "nbconvert_exporter": "python",
   "pygments_lexer": "ipython3",
   "version": "3.9.13"
  }
 },
 "nbformat": 4,
 "nbformat_minor": 5
}

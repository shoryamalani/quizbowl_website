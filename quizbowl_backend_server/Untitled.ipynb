{
 "cells": [
  {
   "cell_type": "code",
   "execution_count": 6,
   "id": "5c7c9e76",
   "metadata": {},
   "outputs": [],
   "source": [
    "import re\n",
    "import jellyfish\n",
    "def check_answer_from_user(user_answer,correct_answer):\n",
    "    \"\"\"\n",
    "    Checks if the answer provided by the user is correct\n",
    "    \"\"\"\n",
    "    correct_answer = re.sub(r'\\([^)]*\\)', '', correct_answer)\n",
    "    correct_answer = re.sub(r'\\[[^>]+]', '', correct_answer)\n",
    "    correct_answer = re.sub(r'&lt[^>]+&gt','',correct_answer)\n",
    "    correct_answer = re.sub(r'(\\b[A-Z][A-Z]+|\\b[A-Z]\\b)','',correct_answer)\n",
    "    correct_answer = re.sub(r'[Bb][oO][nN][uU][sS][eE][sS]','',correct_answer)\n",
    "    correct_answer = re.sub(r'[Bb][oO][nN][uU][sS]','',correct_answer)\n",
    "    \n",
    "    correct_answer = correct_answer.replace('\"', '')\n",
    "    correct_answer = correct_answer.replace(\"alt;\", ' ')\n",
    "    correct_answer = correct_answer.replace(\"&lt\", ' ')\n",
    "    correct_answer = correct_answer.replace(\"&gt;\", ' ')\n",
    "    correct_answer = correct_answer.replace(\"'\", '')\n",
    "    correct_answer = correct_answer.replace(\"?\", '')\n",
    "    correct_answer = correct_answer.replace(\".\", '')\n",
    "    correct_answer = correct_answer.replace(\"!\", '')\n",
    "    correct_answer = correct_answer.replace(\",\", '')\n",
    "    correct_answer = correct_answer.replace(\";\", '')\n",
    "    correct_answer = correct_answer.replace(\"<strong>\", ' ')\n",
    "    correct_answer = correct_answer.replace(\"</strong>\", ' ')\n",
    "    correct_answer = correct_answer.replace(\"<br>\", ' ')\n",
    "    correct_answer = correct_answer.replace(\"<br/>\", ' ')\n",
    "    correct_answer = correct_answer.replace(\"<u>\", ' ')\n",
    "    correct_answer = correct_answer.replace(\"</u>\", ' ')\n",
    "    correct_answer = correct_answer.replace(\"<p>\", ' ')\n",
    "    correct_answer = correct_answer.replace(\"</p>\", ' ')\n",
    "    correct_answer = correct_answer.replace(\"<em>\", ' ')\n",
    "    correct_answer = correct_answer.replace(\"</em>\", ' ')\n",
    "\n",
    "    correct_answer = correct_answer.strip()\n",
    "    possible_answers = correct_answer.split()\n",
    "    possible_answers.append(correct_answer)\n",
    "    for a in possible_answers:\n",
    "        distance = jellyfish.damerau_levenshtein_distance(user_answer.lower(), a.lower())\n",
    "        print(distance)\n",
    "        if distance<len(user_answer)*0.4:\n",
    "            return [True, correct_answer]\n",
    "    return [False, correct_answer]"
   ]
  },
  {
   "cell_type": "code",
   "execution_count": 9,
   "id": "4bb767ed",
   "metadata": {},
   "outputs": [
    {
     "name": "stdout",
     "output_type": "stream",
     "text": [
      "6\n",
      "1\n"
     ]
    },
    {
     "data": {
      "text/plain": [
       "[True, 'Donald Trump']"
      ]
     },
     "execution_count": 9,
     "metadata": {},
     "output_type": "execute_result"
    }
   ],
   "source": [
    "check_answer_from_user(\"Trupp\",\"Donald Trump\")"
   ]
  },
  {
   "cell_type": "code",
   "execution_count": null,
   "id": "90aa190a",
   "metadata": {},
   "outputs": [],
   "source": []
  }
 ],
 "metadata": {
  "kernelspec": {
   "display_name": "Python 3",
   "language": "python",
   "name": "python3"
  },
  "language_info": {
   "codemirror_mode": {
    "name": "ipython",
    "version": 3
   },
   "file_extension": ".py",
   "mimetype": "text/x-python",
   "name": "python",
   "nbconvert_exporter": "python",
   "pygments_lexer": "ipython3",
   "version": "3.9.13"
  }
 },
 "nbformat": 4,
 "nbformat_minor": 5
}
